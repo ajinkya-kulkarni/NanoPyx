{
 "cells": [
  {
   "cell_type": "code",
   "execution_count": null,
   "metadata": {},
   "outputs": [],
   "source": [
    "from nanopyx.core.image.add_random_noise import get_simplex_noise\n",
    "from nanopyx.data.download import ExampleDataManager\n",
    "\n",
    "import numpy as np\n",
    "import seaborn as sns\n",
    "\n",
    "downloader = ExampleDataManager()\n",
    "z = downloader.get_ZipTiffIterator(\n",
    "    \"SMLMS2013_HDTubulinAlexa647\", as_ndarray=True)\n",
    "\n",
    "image = z.mean(0)\n",
    "\n",
    "# # Generate a random image\n",
    "# image = get_simplex_noise(256, 256, f=10).astype(np.float32)*100\n",
    "\n",
    "sns.heatmap(image)\n"
   ]
  },
  {
   "cell_type": "code",
   "execution_count": null,
   "metadata": {},
   "outputs": [],
   "source": [
    "from nanopyx.core.transform.dht import dht2d, idht2d\n",
    "from nanopyx.core.transform.dct import dct2d, idct2d\n",
    "from nanopyx.core.transform.fht import fht2d, ifht2d\n",
    "\n",
    "# Perform the DHT\n",
    "image_dht = fht2d(image)\n",
    "sns.heatmap(image_dht)"
   ]
  },
  {
   "cell_type": "code",
   "execution_count": null,
   "metadata": {},
   "outputs": [],
   "source": [
    "# Perform the inverse DHT\n",
    "image_idht = ifht2d(image_dht)\n",
    "sns.heatmap(image_idht)"
   ]
  },
  {
   "cell_type": "code",
   "execution_count": null,
   "metadata": {},
   "outputs": [],
   "source": [
    "sns.heatmap(image - image_idht)"
   ]
  },
  {
   "cell_type": "code",
   "execution_count": null,
   "metadata": {},
   "outputs": [],
   "source": [
    "from nanopyx.core.transform.dht import magnify\n",
    "from matplotlib import pyplot as plt\n",
    "\n",
    "image_magnified = magnify(image, 2)\n",
    "\n",
    "# show image and image_magnified side by side\n",
    "fig, ax = plt.subplots(1, 2, figsize=(12, 5))\n",
    "sns.heatmap(image, ax=ax[0], cbar=True, square=True, xticklabels=False, yticklabels=False)\n",
    "sns.heatmap(image_magnified, ax=ax[1], cbar=True, square=True, xticklabels=False, yticklabels=False)\n"
   ]
  }
 ],
 "metadata": {
  "kernelspec": {
   "display_name": ".venv",
   "language": "python",
   "name": "python3"
  },
  "language_info": {
   "codemirror_mode": {
    "name": "ipython",
    "version": 3
   },
   "file_extension": ".py",
   "mimetype": "text/x-python",
   "name": "python",
   "nbconvert_exporter": "python",
   "pygments_lexer": "ipython3",
   "version": "3.11.1"
  },
  "vscode": {
   "interpreter": {
    "hash": "ff43d62f8f6c4527fe53ff203f9f4b76bff05577ec2443f113edf97841413ea1"
   }
  }
 },
 "nbformat": 4,
 "nbformat_minor": 2
}
