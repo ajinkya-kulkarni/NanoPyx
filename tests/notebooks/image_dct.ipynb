{
 "cells": [
  {
   "cell_type": "code",
   "execution_count": null,
   "metadata": {},
   "outputs": [],
   "source": [
    "from nanopyx.data.download import ExampleDataManager\n",
    "\n",
    "import numpy as np\n",
    "import seaborn as sns\n",
    "\n",
    "downloader = ExampleDataManager()\n",
    "z = downloader.get_ZipTiffIterator(\n",
    "    \"SMLMS2013_HDTubulinAlexa647\", as_ndarray=True)\n",
    "\n",
    "image = z.mean(0)\n",
    "\n",
    "# # Generate a random image\n",
    "# image = get_simplex_noise(256, 256, f=10).astype(np.float32)*100\n",
    "\n",
    "sns.heatmap(image)\n"
   ]
  },
  {
   "cell_type": "code",
   "execution_count": null,
   "metadata": {},
   "outputs": [],
   "source": [
    "from nanopyx.core.transform.dct import DCT_II\n",
    "from matplotlib import pyplot as plt\n",
    "\n",
    "# Perform the DCT\n",
    "n = image.shape[0]\n",
    "dct = DCT_II(n, n)\n",
    "\n",
    "image_dct = dct.dct(image)\n",
    "image_idct = dct.idct(image_dct)\n",
    "\n",
    "# show the orignal image side by side to image_dct and image_idct using seaborn\n",
    "fig, axes = plt.subplots(1, 3, figsize=(15, 5))\n",
    "sns.heatmap(image, ax=axes[0], square=True)\n",
    "sns.heatmap(image_dct, ax=axes[1], square=True)\n",
    "sns.heatmap(image_idct, ax=axes[2], square=True)\n",
    "\n",
    "\n"
   ]
  }
 ],
 "metadata": {
  "kernelspec": {
   "display_name": ".venv",
   "language": "python",
   "name": "python3"
  },
  "language_info": {
   "codemirror_mode": {
    "name": "ipython",
    "version": 3
   },
   "file_extension": ".py",
   "mimetype": "text/x-python",
   "name": "python",
   "nbconvert_exporter": "python",
   "pygments_lexer": "ipython3",
   "version": "3.11.1"
  },
  "vscode": {
   "interpreter": {
    "hash": "ff43d62f8f6c4527fe53ff203f9f4b76bff05577ec2443f113edf97841413ea1"
   }
  }
 },
 "nbformat": 4,
 "nbformat_minor": 2
}
